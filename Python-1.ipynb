{
 "cells": [
  {
   "cell_type": "code",
   "execution_count": 2,
   "id": "aa149f04",
   "metadata": {},
   "outputs": [
    {
     "name": "stdout",
     "output_type": "stream",
     "text": [
      "welcome to data Analytics Batch\n"
     ]
    }
   ],
   "source": [
    "print(\"welcome to data Analytics Batch\")"
   ]
  },
  {
   "cell_type": "code",
   "execution_count": 3,
   "id": "37fc4ae1",
   "metadata": {},
   "outputs": [
    {
     "name": "stdout",
     "output_type": "stream",
     "text": [
      "my name is ayushi\n",
      "I am data analytics mentor\n"
     ]
    }
   ],
   "source": [
    "print(\"my name is ayushi\")\n",
    "print(\"I am data analytics mentor\")"
   ]
  },
  {
   "cell_type": "code",
   "execution_count": 1,
   "id": "1836d02b",
   "metadata": {},
   "outputs": [
    {
     "name": "stdout",
     "output_type": "stream",
     "text": [
      "my name is ayushi\n",
      "\n",
      "I am data analytics mentor\n"
     ]
    }
   ],
   "source": [
    "print(\"\"\"my name is ayushi\n",
    "\n",
    "I am data analytics mentor\"\"\")"
   ]
  },
  {
   "cell_type": "code",
   "execution_count": 11,
   "id": "cefab41b",
   "metadata": {},
   "outputs": [
    {
     "name": "stdout",
     "output_type": "stream",
     "text": [
      "hello\n"
     ]
    }
   ],
   "source": [
    "print('hello')"
   ]
  },
  {
   "cell_type": "code",
   "execution_count": 10,
   "id": "a5635ed6",
   "metadata": {
    "scrolled": true
   },
   "outputs": [
    {
     "name": "stdout",
     "output_type": "stream",
     "text": [
      "hello everyone \n",
      "welcome to wscubetech\n"
     ]
    }
   ],
   "source": [
    "print(\"hello everyone \\nwelcome to wscubetech\") #new line"
   ]
  },
  {
   "cell_type": "code",
   "execution_count": 12,
   "id": "d6bd339b",
   "metadata": {},
   "outputs": [
    {
     "name": "stdout",
     "output_type": "stream",
     "text": [
      "wscubetech\n"
     ]
    }
   ],
   "source": [
    "print(\"it's going to rain today\")"
   ]
  },
  {
   "cell_type": "code",
   "execution_count": 15,
   "id": "7506c60c",
   "metadata": {},
   "outputs": [
    {
     "name": "stdout",
     "output_type": "stream",
     "text": [
      "2.3\n"
     ]
    }
   ],
   "source": [
    "print(2.3)"
   ]
  },
  {
   "cell_type": "code",
   "execution_count": 16,
   "id": "bc0c8ff8",
   "metadata": {},
   "outputs": [
    {
     "name": "stdout",
     "output_type": "stream",
     "text": [
      "hello\n"
     ]
    }
   ],
   "source": [
    "print('hello')"
   ]
  },
  {
   "cell_type": "markdown",
   "id": "abed4dbe",
   "metadata": {},
   "source": [
    "# Variables"
   ]
  },
  {
   "cell_type": "code",
   "execution_count": 38,
   "id": "8e0f9a09",
   "metadata": {},
   "outputs": [
    {
     "name": "stdout",
     "output_type": "stream",
     "text": [
      "john\n",
      "20\n"
     ]
    }
   ],
   "source": [
    "Name = \"john\"\n",
    "age = 20\n",
    "height = 5.8\n",
    "print(Name)\n",
    "print(age)"
   ]
  },
  {
   "cell_type": "code",
   "execution_count": 29,
   "id": "63d1d8ec",
   "metadata": {},
   "outputs": [
    {
     "name": "stdout",
     "output_type": "stream",
     "text": [
      "<class 'str'>\n",
      "<class 'int'>\n",
      "<class 'float'>\n"
     ]
    }
   ],
   "source": [
    "print(type(name))\n",
    "print(type(age))\n",
    "print(type(height))"
   ]
  },
  {
   "cell_type": "markdown",
   "id": "03f76a04",
   "metadata": {},
   "source": [
    "# User_Input"
   ]
  },
  {
   "cell_type": "code",
   "execution_count": 36,
   "id": "640cdec7",
   "metadata": {},
   "outputs": [
    {
     "name": "stdout",
     "output_type": "stream",
     "text": [
      "Enter your name here: peter\n",
      "enter age: 23\n",
      "enter height: 5.8\n",
      "<class 'str'>\n",
      "<class 'int'>\n",
      "<class 'float'>\n"
     ]
    }
   ],
   "source": [
    "name = input(\"Enter your name here: \")\n",
    "age = int(input(\"enter age: \"))\n",
    "height = float(input(\"enter height: \"))\n",
    "print(type(name))\n",
    "print(type(age))\n",
    "print(type(height))"
   ]
  },
  {
   "cell_type": "markdown",
   "id": "3b4a9b79",
   "metadata": {},
   "source": [
    "# Rules of writing Variables"
   ]
  },
  {
   "cell_type": "code",
   "execution_count": 1,
   "id": "334bf058",
   "metadata": {},
   "outputs": [
    {
     "ename": "NameError",
     "evalue": "name 'A' is not defined",
     "output_type": "error",
     "traceback": [
      "\u001b[1;31m---------------------------------------------------------------------------\u001b[0m",
      "\u001b[1;31mNameError\u001b[0m                                 Traceback (most recent call last)",
      "Cell \u001b[1;32mIn[1], line 2\u001b[0m\n\u001b[0;32m      1\u001b[0m a \u001b[38;5;241m=\u001b[39m \u001b[38;5;124m\"\u001b[39m\u001b[38;5;124mJohn\u001b[39m\u001b[38;5;124m\"\u001b[39m\n\u001b[1;32m----> 2\u001b[0m \u001b[38;5;28mprint\u001b[39m(\u001b[43mA\u001b[49m)\n",
      "\u001b[1;31mNameError\u001b[0m: name 'A' is not defined"
     ]
    }
   ],
   "source": [
    "a = \"John\"\n",
    "print(A)"
   ]
  },
  {
   "cell_type": "code",
   "execution_count": 3,
   "id": "81271294",
   "metadata": {},
   "outputs": [
    {
     "name": "stdout",
     "output_type": "stream",
     "text": [
      "enter name: john\n",
      "enter father's namepeter\n",
      "john\n",
      "peter\n"
     ]
    }
   ],
   "source": [
    "name = input(\"enter name: \")\n",
    "fatherName = input(\"enter father's name \")\n",
    "print(name)\n",
    "print(fatherName)"
   ]
  },
  {
   "cell_type": "code",
   "execution_count": 4,
   "id": "11550ab1",
   "metadata": {},
   "outputs": [
    {
     "ename": "SyntaxError",
     "evalue": "invalid decimal literal (2698216009.py, line 1)",
     "output_type": "error",
     "traceback": [
      "\u001b[1;36m  Cell \u001b[1;32mIn[4], line 1\u001b[1;36m\u001b[0m\n\u001b[1;33m    1num = int(input(\"enter number: \"))\u001b[0m\n\u001b[1;37m    ^\u001b[0m\n\u001b[1;31mSyntaxError\u001b[0m\u001b[1;31m:\u001b[0m invalid decimal literal\n"
     ]
    }
   ],
   "source": [
    "num_1 = int(input(\"enter number: \"))\n",
    "print(num_1)"
   ]
  },
  {
   "cell_type": "markdown",
   "id": "1284327f",
   "metadata": {},
   "source": [
    "# Arithmetic Operators"
   ]
  },
  {
   "cell_type": "code",
   "execution_count": 5,
   "id": "970487e3",
   "metadata": {},
   "outputs": [
    {
     "name": "stdout",
     "output_type": "stream",
     "text": [
      "9\n"
     ]
    }
   ],
   "source": [
    "print(4+5)"
   ]
  },
  {
   "cell_type": "code",
   "execution_count": 6,
   "id": "daecc4cb",
   "metadata": {
    "scrolled": true
   },
   "outputs": [
    {
     "name": "stdout",
     "output_type": "stream",
     "text": [
      "enter 1st number: 56\n",
      "enter 2nd number: 20\n",
      "76\n"
     ]
    }
   ],
   "source": [
    "num1 = int(input(\"enter 1st number: \"))\n",
    "num2 = int(input(\"enter 2nd number: \"))\n",
    "\n",
    "print(num1+num2)"
   ]
  },
  {
   "cell_type": "code",
   "execution_count": 8,
   "id": "d5ab4625",
   "metadata": {},
   "outputs": [
    {
     "name": "stdout",
     "output_type": "stream",
     "text": [
      "2\n",
      "8\n",
      "2.0\n"
     ]
    }
   ],
   "source": [
    "print(4-2)\n",
    "print(4*2) #Astrick\n",
    "print(4/2)"
   ]
  },
  {
   "cell_type": "code",
   "execution_count": 10,
   "id": "9589a347",
   "metadata": {},
   "outputs": [
    {
     "name": "stdout",
     "output_type": "stream",
     "text": [
      "27\n",
      "49\n"
     ]
    }
   ],
   "source": [
    "print(3**3) #exponentiation\n",
    "print(7**2)"
   ]
  },
  {
   "cell_type": "code",
   "execution_count": 13,
   "id": "133dde7c",
   "metadata": {},
   "outputs": [
    {
     "name": "stdout",
     "output_type": "stream",
     "text": [
      "9.75\n",
      "9\n"
     ]
    }
   ],
   "source": [
    "print(39/4)\n",
    "print(39//4) #quotient (but without decimal value)"
   ]
  },
  {
   "cell_type": "markdown",
   "id": "6cfca30e",
   "metadata": {},
   "source": [
    "print(8 % 3)"
   ]
  },
  {
   "cell_type": "markdown",
   "id": "3ad25e6e",
   "metadata": {},
   "source": [
    "# Comparison Operators"
   ]
  },
  {
   "cell_type": "code",
   "execution_count": 16,
   "id": "f22b6c24",
   "metadata": {},
   "outputs": [
    {
     "name": "stdout",
     "output_type": "stream",
     "text": [
      "False\n"
     ]
    }
   ],
   "source": [
    "print(5>8)"
   ]
  },
  {
   "cell_type": "code",
   "execution_count": 2,
   "id": "f55a1e07",
   "metadata": {},
   "outputs": [
    {
     "name": "stdout",
     "output_type": "stream",
     "text": [
      "False\n",
      "True\n"
     ]
    }
   ],
   "source": [
    "num1 = 45\n",
    "num2 = 56\n",
    "print(num1 == num2)\n",
    "\n",
    "print(num1 != num2)"
   ]
  },
  {
   "cell_type": "markdown",
   "id": "0ac5e442",
   "metadata": {},
   "source": [
    "# Logical Operators"
   ]
  },
  {
   "cell_type": "code",
   "execution_count": 22,
   "id": "f0edd0f1",
   "metadata": {},
   "outputs": [
    {
     "name": "stdout",
     "output_type": "stream",
     "text": [
      "enter name: wscube\n",
      "enter password: 12345\n",
      "login successful\n"
     ]
    }
   ],
   "source": [
    "username = \"wscube\"\n",
    "password = 12345\n",
    "\n",
    "un = input(\"enter name: \")\n",
    "ps = int(input(\"enter password: \"))\n",
    "\n",
    "if un == username and ps == password:\n",
    "    print(\"login successful\")"
   ]
  },
  {
   "cell_type": "code",
   "execution_count": 24,
   "id": "659fc31a",
   "metadata": {},
   "outputs": [
    {
     "name": "stdout",
     "output_type": "stream",
     "text": [
      "True\n"
     ]
    }
   ],
   "source": [
    "print(4>5 or 7>2 or 9<1)"
   ]
  },
  {
   "cell_type": "code",
   "execution_count": 26,
   "id": "bb3d09d5",
   "metadata": {},
   "outputs": [
    {
     "name": "stdout",
     "output_type": "stream",
     "text": [
      "True\n"
     ]
    }
   ],
   "source": [
    "print(not(4>5))"
   ]
  },
  {
   "cell_type": "code",
   "execution_count": 28,
   "id": "1a09ab2f",
   "metadata": {
    "scrolled": true
   },
   "outputs": [
    {
     "name": "stdout",
     "output_type": "stream",
     "text": [
      "False\n"
     ]
    }
   ],
   "source": [
    "print (not( 9==9))"
   ]
  },
  {
   "cell_type": "markdown",
   "id": "8c470c65",
   "metadata": {},
   "source": [
    "# Assignment Operators"
   ]
  },
  {
   "cell_type": "code",
   "execution_count": 4,
   "id": "2de81663",
   "metadata": {},
   "outputs": [
    {
     "name": "stdout",
     "output_type": "stream",
     "text": [
      "25\n"
     ]
    }
   ],
   "source": [
    "amount = 0\n",
    "\n",
    "chips = 20\n",
    "\n",
    "amount += 20\n",
    "\n",
    "milk = 25\n",
    "\n",
    "amount += 25\n",
    "\n",
    "print(amount)"
   ]
  },
  {
   "cell_type": "markdown",
   "id": "3392ed5f",
   "metadata": {},
   "source": [
    "# Membership Operator"
   ]
  },
  {
   "cell_type": "code",
   "execution_count": 8,
   "id": "a794140d",
   "metadata": {},
   "outputs": [
    {
     "name": "stdout",
     "output_type": "stream",
     "text": [
      "True\n"
     ]
    }
   ],
   "source": [
    "a = \"hello\"\n",
    "\n",
    "print(\"i\" not in a)\n"
   ]
  },
  {
   "cell_type": "code",
   "execution_count": 7,
   "id": "0c002822",
   "metadata": {},
   "outputs": [
    {
     "name": "stdout",
     "output_type": "stream",
     "text": [
      "enter name: Meeyosh\n",
      "False\n"
     ]
    }
   ],
   "source": [
    "names = [\"Yash\",\"Nitesh\",\"Shyam\"]\n",
    "\n",
    "name = input(\"enter name: \")\n",
    "\n",
    "print(name in names)"
   ]
  },
  {
   "cell_type": "markdown",
   "id": "5b2fb307",
   "metadata": {},
   "source": [
    "# Identity Operators"
   ]
  },
  {
   "cell_type": "markdown",
   "id": "2d690f7c",
   "metadata": {},
   "source": [
    "#They deal with the memory (same value and same data type)\n",
    "a = 23\n",
    "b = 23.0\n",
    "\n",
    "print (a is b)\n",
    "print (a == b)"
   ]
  },
  {
   "cell_type": "markdown",
   "id": "1cd6873b",
   "metadata": {},
   "source": [
    "# Conditional Statement"
   ]
  },
  {
   "cell_type": "code",
   "execution_count": 20,
   "id": "0fcda4a4",
   "metadata": {},
   "outputs": [
    {
     "name": "stdout",
     "output_type": "stream",
     "text": [
      "we will buy you a new phone\n",
      "thank you\n"
     ]
    }
   ],
   "source": [
    "#if - statement\n",
    "\n",
    "\n",
    "marks = 91\n",
    "\n",
    "if marks > 90:\n",
    "    print(\"we will buy you a new phone\")\n",
    "    \n",
    "print(\"thank you\")"
   ]
  },
  {
   "cell_type": "code",
   "execution_count": 24,
   "id": "ac68724a",
   "metadata": {},
   "outputs": [
    {
     "name": "stdout",
     "output_type": "stream",
     "text": [
      "you will get a new phone\n"
     ]
    }
   ],
   "source": [
    "#if-else statement\n",
    "\n",
    "marks = 94\n",
    "\n",
    "if marks > 90:\n",
    "    print(\"you will get a new phone\")\n",
    "else:\n",
    "    print(\"ghar se bahar\")"
   ]
  },
  {
   "cell_type": "code",
   "execution_count": 27,
   "id": "401e634d",
   "metadata": {
    "scrolled": true
   },
   "outputs": [
    {
     "name": "stdout",
     "output_type": "stream",
     "text": [
      "enter marks: 60\n",
      "ghar se bahar\n"
     ]
    }
   ],
   "source": [
    "#if-elif-else\n",
    "marks = int(input(\"enter marks: \"))\n",
    "\n",
    "if marks >= 90:\n",
    "    print(\"you will get a new phone\")\n",
    "elif marks >=80 and marks < 90:\n",
    "    print(\"you will get a new watch\")\n",
    "elif marks >=70 and marks < 80:\n",
    "    print(\"no phone for a month\")\n",
    "else:\n",
    "    print(\"ghar se bahar\")"
   ]
  },
  {
   "cell_type": "code",
   "execution_count": 32,
   "id": "160b13f1",
   "metadata": {},
   "outputs": [
    {
     "name": "stdout",
     "output_type": "stream",
     "text": [
      "enter username: wscube\n",
      "enter password: 12345\n",
      "login successful\n"
     ]
    }
   ],
   "source": [
    "#Nested if statement\n",
    "\n",
    "username = \"wscube\"\n",
    "password = \"12345\"\n",
    "\n",
    "un = input(\"enter username: \")\n",
    "if un == username:\n",
    "    ps = input(\"enter password: \")\n",
    "    if ps == password:\n",
    "        print(\"login successful\")\n",
    "\n"
   ]
  },
  {
   "cell_type": "code",
   "execution_count": 36,
   "id": "3dd64f12",
   "metadata": {},
   "outputs": [
    {
     "name": "stdout",
     "output_type": "stream",
     "text": [
      "new phone\n",
      "new laptop\n"
     ]
    }
   ],
   "source": [
    "marks = 97\n",
    "\n",
    "if marks > 90:\n",
    "    print(\"new phone\")\n",
    "    if  marks > 95:\n",
    "        print(\"new laptop\")"
   ]
  },
  {
   "cell_type": "code",
   "execution_count": null,
   "id": "8ce38b65",
   "metadata": {},
   "outputs": [],
   "source": [
    "#Short hand if statement"
   ]
  },
  {
   "cell_type": "code",
   "execution_count": 2,
   "id": "e28717b2",
   "metadata": {},
   "outputs": [
    {
     "name": "stdout",
     "output_type": "stream",
     "text": [
      "pass\n",
      "pass\n"
     ]
    }
   ],
   "source": [
    "marks = 78\n",
    "\n",
    "if marks > 40:\n",
    "    print(\"pass\")\n",
    "    \n",
    "if marks > 40: print(\"pass\")"
   ]
  },
  {
   "cell_type": "code",
   "execution_count": null,
   "id": "6a98ce8f",
   "metadata": {},
   "outputs": [],
   "source": [
    "#Short hand if-else statement"
   ]
  },
  {
   "cell_type": "code",
   "execution_count": 5,
   "id": "351d9a9d",
   "metadata": {},
   "outputs": [
    {
     "name": "stdout",
     "output_type": "stream",
     "text": [
      "fail\n",
      "fail\n"
     ]
    }
   ],
   "source": [
    "marks = 34\n",
    "\n",
    "if marks > 40:\n",
    "    print(\"pass\")\n",
    "else:\n",
    "    print(\"fail\")\n",
    "    \n",
    "print('pass') if marks > 40 else print(\"fail\")"
   ]
  },
  {
   "cell_type": "code",
   "execution_count": 7,
   "id": "4092fae7",
   "metadata": {},
   "outputs": [
    {
     "name": "stdout",
     "output_type": "stream",
     "text": [
      "enter number: 5\n",
      "positive\n"
     ]
    }
   ],
   "source": [
    "#write a program to check if a number is positive of negative\n",
    "\n",
    "num = int(input(\"enter number: \"))\n",
    "\n",
    "if num > 0:\n",
    "    print(\"positive\")\n",
    "else:\n",
    "    print(\"negative\")"
   ]
  },
  {
   "cell_type": "code",
   "execution_count": 9,
   "id": "36b601e3",
   "metadata": {},
   "outputs": [
    {
     "name": "stdout",
     "output_type": "stream",
     "text": [
      "enter number: 9\n",
      "odd\n"
     ]
    }
   ],
   "source": [
    "#write a program to check if a number if odd or even\n",
    "\n",
    "num = int(input(\"enter number: \"))\n",
    "\n",
    "if num % 2 == 0:\n",
    "    print(\"even\")\n",
    "else:\n",
    "    print(\"odd\")\n"
   ]
  },
  {
   "cell_type": "code",
   "execution_count": 12,
   "id": "b65a3c0c",
   "metadata": {},
   "outputs": [
    {
     "name": "stdout",
     "output_type": "stream",
     "text": [
      "enter any number upto 5 digits: 10000\n",
      "five digit\n"
     ]
    }
   ],
   "source": [
    "#write a program to identify number of digits in a number upto 5\n",
    "\n",
    "num = int(input(\"enter any number upto 5 digits: \"))\n",
    "\n",
    "if num <=9:\n",
    "    print(\"one digit number\")\n",
    "elif num >=10 and num <=99:\n",
    "    print(\"two digit\")\n",
    "elif num >=100 and num <=999:\n",
    "    print(\"three digit\")\n",
    "elif num >=1000 and num <=9999:\n",
    "    print(\"four digit\")\n",
    "else:\n",
    "    print(\"five digit\")\n",
    "\n"
   ]
  },
  {
   "cell_type": "code",
   "execution_count": 13,
   "id": "1492ebbd",
   "metadata": {},
   "outputs": [
    {
     "name": "stdout",
     "output_type": "stream",
     "text": [
      "enter readius: 4.5\n",
      "The area of the circle is:  63.64285714285714\n"
     ]
    }
   ],
   "source": [
    "#Area of circle\n",
    "\n",
    "radius = float(input(\"enter readius: \"))\n",
    "\n",
    "area = (22/7*(radius**2))\n",
    "print(\"The area of the circle is: \", area)"
   ]
  },
  {
   "cell_type": "code",
   "execution_count": 15,
   "id": "eb1bc882",
   "metadata": {},
   "outputs": [
    {
     "name": "stdout",
     "output_type": "stream",
     "text": [
      "--------------- calculator ---------------\n",
      "enter 1st number:56\n",
      "enter 2nd number:45\n",
      "\n",
      "Press 1 for addition\n",
      "Press 2 for subtraction \n",
      "Press 3 for multiplication\n",
      "Press 4 for division\n",
      "enter a number between 1-4: 3\n",
      "multiplication:  2520\n"
     ]
    }
   ],
   "source": [
    "print(\"-\"*15, \"calculator\", \"-\"*15)\n",
    "\n",
    "num1 = int(input(\"enter 1st number:\"))\n",
    "num2 = int(input(\"enter 2nd number:\"))\n",
    "\n",
    "print(\"\"\"\n",
    "Press 1 for addition\n",
    "Press 2 for subtraction \n",
    "Press 3 for multiplication\n",
    "Press 4 for division\"\"\")\n",
    "\n",
    "choice = int(input(\"enter a number between 1-4: \"))\n",
    "\n",
    "if choice == 1:\n",
    "    print(\"addition: \",num1+num2)\n",
    "\n",
    "elif choice == 2:\n",
    "    print(\"subtraction: \", num1-num2)\n",
    "    \n",
    "elif choice == 3:\n",
    "    print(\"multiplication: \", num1*num2)\n",
    "\n",
    "elif choice == 4:\n",
    "    print(\"division: \", num1/num2)\n",
    "\n",
    "else:\n",
    "    print('invalid input.. try again!')\n",
    "\n",
    "\n",
    "\n"
   ]
  },
  {
   "cell_type": "code",
   "execution_count": 18,
   "id": "20513aa2",
   "metadata": {},
   "outputs": [
    {
     "name": "stdout",
     "output_type": "stream",
     "text": [
      "7\n"
     ]
    }
   ],
   "source": [
    "#Iteration\n",
    "a = \"ws cube\"\n",
    "\n",
    "count = 0\n",
    "\n",
    "for i in a:\n",
    "    count+=1\n",
    "    \n",
    "print(count)"
   ]
  },
  {
   "cell_type": "code",
   "execution_count": 19,
   "id": "f261da25",
   "metadata": {},
   "outputs": [
    {
     "ename": "TypeError",
     "evalue": "'int' object is not iterable",
     "output_type": "error",
     "traceback": [
      "\u001b[1;31m---------------------------------------------------------------------------\u001b[0m",
      "\u001b[1;31mTypeError\u001b[0m                                 Traceback (most recent call last)",
      "Cell \u001b[1;32mIn[19], line 3\u001b[0m\n\u001b[0;32m      1\u001b[0m a \u001b[38;5;241m=\u001b[39m \u001b[38;5;241m12345\u001b[39m\n\u001b[1;32m----> 3\u001b[0m \u001b[38;5;28;01mfor\u001b[39;00m i \u001b[38;5;129;01min\u001b[39;00m a:\n\u001b[0;32m      4\u001b[0m     \u001b[38;5;28mprint\u001b[39m(i)\n",
      "\u001b[1;31mTypeError\u001b[0m: 'int' object is not iterable"
     ]
    }
   ],
   "source": [
    "a = 12345\n",
    "\n",
    "for i in a:\n",
    "    print(i)"
   ]
  },
  {
   "cell_type": "code",
   "execution_count": 22,
   "id": "ad296d8c",
   "metadata": {},
   "outputs": [
    {
     "name": "stdout",
     "output_type": "stream",
     "text": [
      "10\n",
      "11\n",
      "12\n",
      "13\n",
      "14\n",
      "15\n"
     ]
    }
   ],
   "source": [
    "for i in range(10,16):\n",
    "    print(i)"
   ]
  },
  {
   "cell_type": "code",
   "execution_count": 26,
   "id": "de0f14cb",
   "metadata": {},
   "outputs": [
    {
     "name": "stdout",
     "output_type": "stream",
     "text": [
      "enter num: 12\n",
      "12 x 1 = 12\n",
      "12 x 2 = 24\n",
      "12 x 3 = 36\n",
      "12 x 4 = 48\n",
      "12 x 5 = 60\n",
      "12 x 6 = 72\n",
      "12 x 7 = 84\n",
      "12 x 8 = 96\n",
      "12 x 9 = 108\n",
      "12 x 10 = 120\n"
     ]
    }
   ],
   "source": [
    "# 8 x 1 = 8\n",
    "num = int(input(\"enter num: \"))\n",
    "for i in range(1,11):\n",
    "    print(num, \"x\" , i, \"=\", num*i)\n",
    "    "
   ]
  }
 ],
 "metadata": {
  "kernelspec": {
   "display_name": "Python 3 (ipykernel)",
   "language": "python",
   "name": "python3"
  },
  "language_info": {
   "codemirror_mode": {
    "name": "ipython",
    "version": 3
   },
   "file_extension": ".py",
   "mimetype": "text/x-python",
   "name": "python",
   "nbconvert_exporter": "python",
   "pygments_lexer": "ipython3",
   "version": "3.11.4"
  }
 },
 "nbformat": 4,
 "nbformat_minor": 5
}
